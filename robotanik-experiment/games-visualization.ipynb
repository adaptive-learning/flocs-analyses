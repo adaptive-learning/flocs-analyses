{
 "cells": [
  {
   "cell_type": "code",
   "execution_count": 2,
   "metadata": {
    "collapsed": true
   },
   "outputs": [],
   "source": [
    "%matplotlib inline\n",
    "import matplotlib.pyplot as plt\n",
    "import numpy as np\n",
    "import pandas as pd\n",
    "import seaborn as sns\n",
    "from sklearn.manifold import TSNE"
   ]
  },
  {
   "cell_type": "code",
   "execution_count": 3,
   "metadata": {
    "collapsed": false,
    "scrolled": false
   },
   "outputs": [
    {
     "name": "stdout",
     "output_type": "stream",
     "text": [
      "11683\n"
     ]
    },
    {
     "data": {
      "text/html": [
       "<div>\n",
       "<table border=\"1\" class=\"dataframe\">\n",
       "  <thead>\n",
       "    <tr style=\"text-align: right;\">\n",
       "      <th></th>\n",
       "      <th>user</th>\n",
       "      <th>game</th>\n",
       "      <th>step</th>\n",
       "      <th>time</th>\n",
       "      <th>correct</th>\n",
       "      <th>code</th>\n",
       "      <th>trace</th>\n",
       "    </tr>\n",
       "  </thead>\n",
       "  <tbody>\n",
       "    <tr>\n",
       "      <th>0</th>\n",
       "      <td>2</td>\n",
       "      <td>1</td>\n",
       "      <td>1</td>\n",
       "      <td>31</td>\n",
       "      <td>False</td>\n",
       "      <td>_FbL_1|||||</td>\n",
       "      <td>((5, 9), (2, 6), (5, 11), (7, 12), (2, 8), (4,...</td>\n",
       "    </tr>\n",
       "    <tr>\n",
       "      <th>1</th>\n",
       "      <td>2</td>\n",
       "      <td>1</td>\n",
       "      <td>2</td>\n",
       "      <td>25</td>\n",
       "      <td>False</td>\n",
       "      <td>_FbLr2_1|_FbR_2||||</td>\n",
       "      <td>((5, 9), (7, 12), (2, 8), (9, 8), (7, 7), (4, ...</td>\n",
       "    </tr>\n",
       "    <tr>\n",
       "      <th>2</th>\n",
       "      <td>2</td>\n",
       "      <td>1</td>\n",
       "      <td>3</td>\n",
       "      <td>15</td>\n",
       "      <td>False</td>\n",
       "      <td>_FbLr2_1|_RbFbR_2||||</td>\n",
       "      <td>((5, 9), (2, 6), (5, 11), (4, 5), (2, 8), (2, ...</td>\n",
       "    </tr>\n",
       "    <tr>\n",
       "      <th>3</th>\n",
       "      <td>2</td>\n",
       "      <td>1</td>\n",
       "      <td>4</td>\n",
       "      <td>10</td>\n",
       "      <td>False</td>\n",
       "      <td>_FbLr2_1|_R_FbR_2||||</td>\n",
       "      <td>((5, 9), (2, 6), (5, 11), (4, 5), (2, 8), (2, ...</td>\n",
       "    </tr>\n",
       "    <tr>\n",
       "      <th>4</th>\n",
       "      <td>2</td>\n",
       "      <td>1</td>\n",
       "      <td>5</td>\n",
       "      <td>9</td>\n",
       "      <td>False</td>\n",
       "      <td>_FbLr2_1|rR_FbR_2||||</td>\n",
       "      <td>((5, 9), (7, 3), (2, 6), (5, 11), (4, 5), (2, ...</td>\n",
       "    </tr>\n",
       "  </tbody>\n",
       "</table>\n",
       "</div>"
      ],
      "text/plain": [
       "   user  game  step  time correct                   code  \\\n",
       "0     2     1     1    31   False            _FbL_1|||||   \n",
       "1     2     1     2    25   False    _FbLr2_1|_FbR_2||||   \n",
       "2     2     1     3    15   False  _FbLr2_1|_RbFbR_2||||   \n",
       "3     2     1     4    10   False  _FbLr2_1|_R_FbR_2||||   \n",
       "4     2     1     5     9   False  _FbLr2_1|rR_FbR_2||||   \n",
       "\n",
       "                                               trace  \n",
       "0  ((5, 9), (2, 6), (5, 11), (7, 12), (2, 8), (4,...  \n",
       "1  ((5, 9), (7, 12), (2, 8), (9, 8), (7, 7), (4, ...  \n",
       "2  ((5, 9), (2, 6), (5, 11), (4, 5), (2, 8), (2, ...  \n",
       "3  ((5, 9), (2, 6), (5, 11), (4, 5), (2, 8), (2, ...  \n",
       "4  ((5, 9), (7, 3), (2, 6), (5, 11), (4, 5), (2, ...  "
      ]
     },
     "execution_count": 3,
     "metadata": {},
     "output_type": "execute_result"
    }
   ],
   "source": [
    "steps = pd.read_csv('../data/robotanik/task639.csv')\n",
    "steps.trace = steps.trace.map(lambda t: frozenset(eval(t)))\n",
    "print(len(steps))\n",
    "steps.head()"
   ]
  },
  {
   "cell_type": "markdown",
   "metadata": {},
   "source": [
    "## Numbers of unique codes and traces"
   ]
  },
  {
   "cell_type": "code",
   "execution_count": 48,
   "metadata": {
    "collapsed": false
   },
   "outputs": [
    {
     "name": "stdout",
     "output_type": "stream",
     "text": [
      "number of unique codes: 5509\n"
     ]
    }
   ],
   "source": [
    "codes = steps.code.value_counts()\n",
    "print('number of unique codes:', len(codes))\n",
    "#codes[codes >= 20].plot.barh()\n",
    "#codes.head()"
   ]
  },
  {
   "cell_type": "code",
   "execution_count": 49,
   "metadata": {
    "collapsed": false
   },
   "outputs": [
    {
     "name": "stdout",
     "output_type": "stream",
     "text": [
      "number of unique traces: 141\n"
     ]
    }
   ],
   "source": [
    "traces = steps.trace.value_counts()\n",
    "print('number of unique traces:', len(traces))\n",
    "# traces[traces >= 50].plot.barh()"
   ]
  },
  {
   "cell_type": "markdown",
   "metadata": {},
   "source": [
    "## t-SNE"
   ]
  },
  {
   "cell_type": "code",
   "execution_count": 50,
   "metadata": {
    "collapsed": true
   },
   "outputs": [],
   "source": [
    "def jaccard_distance(setA, setB):\n",
    "    \"\"\" Distance between two sets\n",
    "\n",
    "    >>> jaccard_distance({1, 2}, {1, 2})\n",
    "    0.0\n",
    "    >>> jaccard_distance({1, 2}, {3, 4})\n",
    "    1.0\n",
    "    >>> jaccard_distance({1, 2, 3}, {1, 2, 4, 5})\n",
    "    0.6\n",
    "    \"\"\"\n",
    "    intersection_size = len(setA & setB)\n",
    "    union_size = len(setA | setB)\n",
    "    distance = (1 - intersection_size / union_size) if union_size > 0 else 0.\n",
    "    return distance"
   ]
  },
  {
   "cell_type": "code",
   "execution_count": 36,
   "metadata": {
    "collapsed": false
   },
   "outputs": [],
   "source": [
    "n = 400 # len(steps)\n",
    "distances = np.zeros((n, n))\n",
    "for i in range(n):\n",
    "    for j in range(n):\n",
    "        distances[i,j] = jaccard_distance(steps.trace[i], steps.trace[j])"
   ]
  },
  {
   "cell_type": "code",
   "execution_count": 47,
   "metadata": {
    "collapsed": false
   },
   "outputs": [
    {
     "data": {
      "text/plain": [
       "<matplotlib.collections.PathCollection at 0x7f4e81e502e8>"
      ]
     },
     "execution_count": 47,
     "metadata": {},
     "output_type": "execute_result"
    },
    {
     "data": {
      "image/png": "[encoded data removed]",
      "text/plain": [
       "<matplotlib.figure.Figure at 0x7f4e81e6c9b0>"
      ]
     },
     "metadata": {},
     "output_type": "display_data"
    }
   ],
   "source": [
    "tsne = TSNE(perplexity=50, learning_rate=1000, metric='precomputed')\n",
    "emb = pd.DataFrame(tsne.fit_transform(distances))\n",
    "plt.scatter(emb[0], emb[1], color=steps.correct.map(lambda c: 'green' if c else 'gray'))"
   ]
  }
 ],
 "metadata": {
  "kernelspec": {
   "display_name": "Python 3",
   "language": "python",
   "name": "python3"
  },
  "language_info": {
   "codemirror_mode": {
    "name": "ipython",
    "version": 3
   },
   "file_extension": ".py",
   "mimetype": "text/x-python",
   "name": "python",
   "nbconvert_exporter": "python",
   "pygments_lexer": "ipython3",
   "version": "3.5.3"
  }
 },
 "nbformat": 4,
 "nbformat_minor": 2
}
