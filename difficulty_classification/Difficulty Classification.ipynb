{
 "cells": [
  {
   "cell_type": "markdown",
   "metadata": {},
   "source": [
    "Goal:\n",
    "classify a task for a given student as (1) too easy, (2) just right, or (3) too difficult.\n",
    "\n",
    "Data:\n",
    "- Robotanist, order and times of solved tasks\n",
    "- proxy for difficulty levels:\n",
    "- too easy = less than 1 minute\n",
    "- too difficult = more than 10 minutes\n",
    "\n",
    "Ideally, the same methods should be usable in scenario where we have explicit user information (qualitative data) about perceived difficulty (obtained via the flow-level question).\n",
    "\n",
    "Usage:\n",
    "- soft recommendation via color each task (too easy, just right, too difficult)\n",
    "- soft recommendation via coarse time predictions (1m, 10m, >20m)\n",
    "- set challenge level (1m or 10m)\n",
    "- hard recommendation: hide/lock too easy/difficult tasks"
   ]
  },
  {
   "cell_type": "code",
   "execution_count": 66,
   "metadata": {
    "collapsed": true
   },
   "outputs": [],
   "source": [
    "%matplotlib inline\n",
    "from collections import OrderedDict\n",
    "import matplotlib.pyplot as plt\n",
    "import numpy as np\n",
    "import pandas as pd\n",
    "import seaborn as sns\n",
    "from sklearn.linear_model import Perceptron, LogisticRegression\n",
    "from sklearn.dummy import DummyClassifier\n",
    "from sklearn.discriminant_analysis import LinearDiscriminantAnalysis\n",
    "from sklearn.discriminant_analysis import QuadraticDiscriminantAnalysis\n",
    "from sklearn.metrics import precision_recall_curve\n",
    "from sklearn.metrics import average_precision_score\n",
    "from sklearn.metrics import confusion_matrix"
   ]
  },
  {
   "cell_type": "markdown",
   "metadata": {},
   "source": [
    "# Data"
   ]
  },
  {
   "cell_type": "code",
   "execution_count": 2,
   "metadata": {},
   "outputs": [
    {
     "data": {
      "text/html": [
       "<div>\n",
       "<style>\n",
       "    .dataframe thead tr:only-child th {\n",
       "        text-align: right;\n",
       "    }\n",
       "\n",
       "    .dataframe thead th {\n",
       "        text-align: left;\n",
       "    }\n",
       "\n",
       "    .dataframe tbody tr th {\n",
       "        vertical-align: top;\n",
       "    }\n",
       "</style>\n",
       "<table border=\"1\" class=\"dataframe\">\n",
       "  <thead>\n",
       "    <tr style=\"text-align: right;\">\n",
       "      <th></th>\n",
       "      <th>635</th>\n",
       "      <th>636</th>\n",
       "      <th>637</th>\n",
       "      <th>638</th>\n",
       "      <th>639</th>\n",
       "      <th>640</th>\n",
       "      <th>641</th>\n",
       "      <th>642</th>\n",
       "      <th>643</th>\n",
       "      <th>644</th>\n",
       "      <th>...</th>\n",
       "      <th>1402</th>\n",
       "      <th>1403</th>\n",
       "      <th>1404</th>\n",
       "      <th>1405</th>\n",
       "      <th>1406</th>\n",
       "      <th>1407</th>\n",
       "      <th>1704</th>\n",
       "      <th>1705</th>\n",
       "      <th>1706</th>\n",
       "      <th>1707</th>\n",
       "    </tr>\n",
       "    <tr>\n",
       "      <th>Login</th>\n",
       "      <th></th>\n",
       "      <th></th>\n",
       "      <th></th>\n",
       "      <th></th>\n",
       "      <th></th>\n",
       "      <th></th>\n",
       "      <th></th>\n",
       "      <th></th>\n",
       "      <th></th>\n",
       "      <th></th>\n",
       "      <th></th>\n",
       "      <th></th>\n",
       "      <th></th>\n",
       "      <th></th>\n",
       "      <th></th>\n",
       "      <th></th>\n",
       "      <th></th>\n",
       "      <th></th>\n",
       "      <th></th>\n",
       "      <th></th>\n",
       "      <th></th>\n",
       "    </tr>\n",
       "  </thead>\n",
       "  <tbody>\n",
       "    <tr>\n",
       "      <th>U1</th>\n",
       "      <td>1.0</td>\n",
       "      <td>2.0</td>\n",
       "      <td>13.0</td>\n",
       "      <td>5.0</td>\n",
       "      <td>NaN</td>\n",
       "      <td>9.0</td>\n",
       "      <td>NaN</td>\n",
       "      <td>NaN</td>\n",
       "      <td>NaN</td>\n",
       "      <td>10.0</td>\n",
       "      <td>...</td>\n",
       "      <td>NaN</td>\n",
       "      <td>NaN</td>\n",
       "      <td>NaN</td>\n",
       "      <td>NaN</td>\n",
       "      <td>NaN</td>\n",
       "      <td>NaN</td>\n",
       "      <td>NaN</td>\n",
       "      <td>NaN</td>\n",
       "      <td>NaN</td>\n",
       "      <td>NaN</td>\n",
       "    </tr>\n",
       "    <tr>\n",
       "      <th>U2</th>\n",
       "      <td>1.0</td>\n",
       "      <td>2.0</td>\n",
       "      <td>4.0</td>\n",
       "      <td>3.0</td>\n",
       "      <td>5.0</td>\n",
       "      <td>6.0</td>\n",
       "      <td>9.0</td>\n",
       "      <td>10.0</td>\n",
       "      <td>8.0</td>\n",
       "      <td>11.0</td>\n",
       "      <td>...</td>\n",
       "      <td>NaN</td>\n",
       "      <td>NaN</td>\n",
       "      <td>NaN</td>\n",
       "      <td>NaN</td>\n",
       "      <td>NaN</td>\n",
       "      <td>NaN</td>\n",
       "      <td>58.0</td>\n",
       "      <td>59.0</td>\n",
       "      <td>60.0</td>\n",
       "      <td>61.0</td>\n",
       "    </tr>\n",
       "    <tr>\n",
       "      <th>U4</th>\n",
       "      <td>1.0</td>\n",
       "      <td>2.0</td>\n",
       "      <td>NaN</td>\n",
       "      <td>NaN</td>\n",
       "      <td>NaN</td>\n",
       "      <td>NaN</td>\n",
       "      <td>NaN</td>\n",
       "      <td>NaN</td>\n",
       "      <td>NaN</td>\n",
       "      <td>NaN</td>\n",
       "      <td>...</td>\n",
       "      <td>NaN</td>\n",
       "      <td>NaN</td>\n",
       "      <td>NaN</td>\n",
       "      <td>NaN</td>\n",
       "      <td>NaN</td>\n",
       "      <td>NaN</td>\n",
       "      <td>NaN</td>\n",
       "      <td>NaN</td>\n",
       "      <td>NaN</td>\n",
       "      <td>NaN</td>\n",
       "    </tr>\n",
       "    <tr>\n",
       "      <th>U5</th>\n",
       "      <td>1.0</td>\n",
       "      <td>2.0</td>\n",
       "      <td>3.0</td>\n",
       "      <td>4.0</td>\n",
       "      <td>16.0</td>\n",
       "      <td>5.0</td>\n",
       "      <td>15.0</td>\n",
       "      <td>NaN</td>\n",
       "      <td>11.0</td>\n",
       "      <td>13.0</td>\n",
       "      <td>...</td>\n",
       "      <td>NaN</td>\n",
       "      <td>NaN</td>\n",
       "      <td>NaN</td>\n",
       "      <td>NaN</td>\n",
       "      <td>NaN</td>\n",
       "      <td>NaN</td>\n",
       "      <td>NaN</td>\n",
       "      <td>NaN</td>\n",
       "      <td>NaN</td>\n",
       "      <td>NaN</td>\n",
       "    </tr>\n",
       "    <tr>\n",
       "      <th>U6</th>\n",
       "      <td>1.0</td>\n",
       "      <td>2.0</td>\n",
       "      <td>3.0</td>\n",
       "      <td>7.0</td>\n",
       "      <td>NaN</td>\n",
       "      <td>8.0</td>\n",
       "      <td>NaN</td>\n",
       "      <td>NaN</td>\n",
       "      <td>NaN</td>\n",
       "      <td>NaN</td>\n",
       "      <td>...</td>\n",
       "      <td>NaN</td>\n",
       "      <td>NaN</td>\n",
       "      <td>NaN</td>\n",
       "      <td>NaN</td>\n",
       "      <td>NaN</td>\n",
       "      <td>NaN</td>\n",
       "      <td>NaN</td>\n",
       "      <td>NaN</td>\n",
       "      <td>NaN</td>\n",
       "      <td>NaN</td>\n",
       "    </tr>\n",
       "  </tbody>\n",
       "</table>\n",
       "<p>5 rows × 78 columns</p>\n",
       "</div>"
      ],
      "text/plain": [
       "       635   636   637   638   639   640   641   642   643   644   ...   1402  \\\n",
       "Login                                                              ...          \n",
       " U1     1.0   2.0  13.0   5.0   NaN   9.0   NaN   NaN   NaN  10.0  ...    NaN   \n",
       " U2     1.0   2.0   4.0   3.0   5.0   6.0   9.0  10.0   8.0  11.0  ...    NaN   \n",
       " U4     1.0   2.0   NaN   NaN   NaN   NaN   NaN   NaN   NaN   NaN  ...    NaN   \n",
       " U5     1.0   2.0   3.0   4.0  16.0   5.0  15.0   NaN  11.0  13.0  ...    NaN   \n",
       " U6     1.0   2.0   3.0   7.0   NaN   8.0   NaN   NaN   NaN   NaN  ...    NaN   \n",
       "\n",
       "       1403  1404  1405  1406  1407  1704  1705  1706  1707  \n",
       "Login                                                        \n",
       " U1     NaN   NaN   NaN   NaN   NaN   NaN   NaN   NaN   NaN  \n",
       " U2     NaN   NaN   NaN   NaN   NaN  58.0  59.0  60.0  61.0  \n",
       " U4     NaN   NaN   NaN   NaN   NaN   NaN   NaN   NaN   NaN  \n",
       " U5     NaN   NaN   NaN   NaN   NaN   NaN   NaN   NaN   NaN  \n",
       " U6     NaN   NaN   NaN   NaN   NaN   NaN   NaN   NaN   NaN  \n",
       "\n",
       "[5 rows x 78 columns]"
      ]
     },
     "execution_count": 2,
     "metadata": {},
     "output_type": "execute_result"
    }
   ],
   "source": [
    "ordering = pd.read_csv('../data/robotanik/user_time_ordering.csv', index_col='Login')\n",
    "# Make task IDs integers (from string labels).\n",
    "ordering.columns = map(int, ordering.columns)\n",
    "ordering.head()"
   ]
  },
  {
   "cell_type": "code",
   "execution_count": 3,
   "metadata": {},
   "outputs": [
    {
     "data": {
      "text/html": [
       "<div>\n",
       "<style>\n",
       "    .dataframe thead tr:only-child th {\n",
       "        text-align: right;\n",
       "    }\n",
       "\n",
       "    .dataframe thead th {\n",
       "        text-align: left;\n",
       "    }\n",
       "\n",
       "    .dataframe tbody tr th {\n",
       "        vertical-align: top;\n",
       "    }\n",
       "</style>\n",
       "<table border=\"1\" class=\"dataframe\">\n",
       "  <thead>\n",
       "    <tr style=\"text-align: right;\">\n",
       "      <th></th>\n",
       "      <th>635</th>\n",
       "      <th>636</th>\n",
       "      <th>637</th>\n",
       "      <th>638</th>\n",
       "      <th>639</th>\n",
       "      <th>640</th>\n",
       "      <th>641</th>\n",
       "      <th>642</th>\n",
       "      <th>643</th>\n",
       "      <th>644</th>\n",
       "      <th>...</th>\n",
       "      <th>1402</th>\n",
       "      <th>1403</th>\n",
       "      <th>1404</th>\n",
       "      <th>1405</th>\n",
       "      <th>1406</th>\n",
       "      <th>1407</th>\n",
       "      <th>1704</th>\n",
       "      <th>1705</th>\n",
       "      <th>1706</th>\n",
       "      <th>1707</th>\n",
       "    </tr>\n",
       "    <tr>\n",
       "      <th>Login</th>\n",
       "      <th></th>\n",
       "      <th></th>\n",
       "      <th></th>\n",
       "      <th></th>\n",
       "      <th></th>\n",
       "      <th></th>\n",
       "      <th></th>\n",
       "      <th></th>\n",
       "      <th></th>\n",
       "      <th></th>\n",
       "      <th></th>\n",
       "      <th></th>\n",
       "      <th></th>\n",
       "      <th></th>\n",
       "      <th></th>\n",
       "      <th></th>\n",
       "      <th></th>\n",
       "      <th></th>\n",
       "      <th></th>\n",
       "      <th></th>\n",
       "      <th></th>\n",
       "    </tr>\n",
       "  </thead>\n",
       "  <tbody>\n",
       "    <tr>\n",
       "      <th>U1</th>\n",
       "      <td>3.218876</td>\n",
       "      <td>2.564949</td>\n",
       "      <td>2.639057</td>\n",
       "      <td>3.637586</td>\n",
       "      <td>NaN</td>\n",
       "      <td>6.129050</td>\n",
       "      <td>NaN</td>\n",
       "      <td>NaN</td>\n",
       "      <td>NaN</td>\n",
       "      <td>4.882802</td>\n",
       "      <td>...</td>\n",
       "      <td>NaN</td>\n",
       "      <td>NaN</td>\n",
       "      <td>NaN</td>\n",
       "      <td>NaN</td>\n",
       "      <td>NaN</td>\n",
       "      <td>NaN</td>\n",
       "      <td>NaN</td>\n",
       "      <td>NaN</td>\n",
       "      <td>NaN</td>\n",
       "      <td>NaN</td>\n",
       "    </tr>\n",
       "    <tr>\n",
       "      <th>U2</th>\n",
       "      <td>2.302585</td>\n",
       "      <td>1.609438</td>\n",
       "      <td>3.891820</td>\n",
       "      <td>2.944439</td>\n",
       "      <td>4.521789</td>\n",
       "      <td>3.135494</td>\n",
       "      <td>4.043051</td>\n",
       "      <td>3.688879</td>\n",
       "      <td>3.737670</td>\n",
       "      <td>5.351858</td>\n",
       "      <td>...</td>\n",
       "      <td>NaN</td>\n",
       "      <td>NaN</td>\n",
       "      <td>NaN</td>\n",
       "      <td>NaN</td>\n",
       "      <td>NaN</td>\n",
       "      <td>NaN</td>\n",
       "      <td>5.220356</td>\n",
       "      <td>4.727388</td>\n",
       "      <td>3.583519</td>\n",
       "      <td>4.290459</td>\n",
       "    </tr>\n",
       "    <tr>\n",
       "      <th>U4</th>\n",
       "      <td>3.258097</td>\n",
       "      <td>1.791759</td>\n",
       "      <td>NaN</td>\n",
       "      <td>NaN</td>\n",
       "      <td>NaN</td>\n",
       "      <td>NaN</td>\n",
       "      <td>NaN</td>\n",
       "      <td>NaN</td>\n",
       "      <td>NaN</td>\n",
       "      <td>NaN</td>\n",
       "      <td>...</td>\n",
       "      <td>NaN</td>\n",
       "      <td>NaN</td>\n",
       "      <td>NaN</td>\n",
       "      <td>NaN</td>\n",
       "      <td>NaN</td>\n",
       "      <td>NaN</td>\n",
       "      <td>NaN</td>\n",
       "      <td>NaN</td>\n",
       "      <td>NaN</td>\n",
       "      <td>NaN</td>\n",
       "    </tr>\n",
       "    <tr>\n",
       "      <th>U5</th>\n",
       "      <td>3.951244</td>\n",
       "      <td>3.663562</td>\n",
       "      <td>3.218876</td>\n",
       "      <td>2.944439</td>\n",
       "      <td>5.897154</td>\n",
       "      <td>3.218876</td>\n",
       "      <td>4.595120</td>\n",
       "      <td>NaN</td>\n",
       "      <td>4.025352</td>\n",
       "      <td>3.828641</td>\n",
       "      <td>...</td>\n",
       "      <td>NaN</td>\n",
       "      <td>NaN</td>\n",
       "      <td>NaN</td>\n",
       "      <td>NaN</td>\n",
       "      <td>NaN</td>\n",
       "      <td>NaN</td>\n",
       "      <td>NaN</td>\n",
       "      <td>NaN</td>\n",
       "      <td>NaN</td>\n",
       "      <td>NaN</td>\n",
       "    </tr>\n",
       "    <tr>\n",
       "      <th>U6</th>\n",
       "      <td>4.219508</td>\n",
       "      <td>2.995732</td>\n",
       "      <td>3.465736</td>\n",
       "      <td>2.890372</td>\n",
       "      <td>NaN</td>\n",
       "      <td>3.737670</td>\n",
       "      <td>NaN</td>\n",
       "      <td>NaN</td>\n",
       "      <td>NaN</td>\n",
       "      <td>NaN</td>\n",
       "      <td>...</td>\n",
       "      <td>NaN</td>\n",
       "      <td>NaN</td>\n",
       "      <td>NaN</td>\n",
       "      <td>NaN</td>\n",
       "      <td>NaN</td>\n",
       "      <td>NaN</td>\n",
       "      <td>NaN</td>\n",
       "      <td>NaN</td>\n",
       "      <td>NaN</td>\n",
       "      <td>NaN</td>\n",
       "    </tr>\n",
       "  </tbody>\n",
       "</table>\n",
       "<p>5 rows × 78 columns</p>\n",
       "</div>"
      ],
      "text/plain": [
       "           635       636       637       638       639       640       641   \\\n",
       "Login                                                                         \n",
       " U1    3.218876  2.564949  2.639057  3.637586       NaN  6.129050       NaN   \n",
       " U2    2.302585  1.609438  3.891820  2.944439  4.521789  3.135494  4.043051   \n",
       " U4    3.258097  1.791759       NaN       NaN       NaN       NaN       NaN   \n",
       " U5    3.951244  3.663562  3.218876  2.944439  5.897154  3.218876  4.595120   \n",
       " U6    4.219508  2.995732  3.465736  2.890372       NaN  3.737670       NaN   \n",
       "\n",
       "           642       643       644     ...     1402  1403  1404  1405  1406  \\\n",
       "Login                                  ...                                    \n",
       " U1         NaN       NaN  4.882802    ...      NaN   NaN   NaN   NaN   NaN   \n",
       " U2    3.688879  3.737670  5.351858    ...      NaN   NaN   NaN   NaN   NaN   \n",
       " U4         NaN       NaN       NaN    ...      NaN   NaN   NaN   NaN   NaN   \n",
       " U5         NaN  4.025352  3.828641    ...      NaN   NaN   NaN   NaN   NaN   \n",
       " U6         NaN       NaN       NaN    ...      NaN   NaN   NaN   NaN   NaN   \n",
       "\n",
       "       1407      1704      1705      1706      1707  \n",
       "Login                                                \n",
       " U1     NaN       NaN       NaN       NaN       NaN  \n",
       " U2     NaN  5.220356  4.727388  3.583519  4.290459  \n",
       " U4     NaN       NaN       NaN       NaN       NaN  \n",
       " U5     NaN       NaN       NaN       NaN       NaN  \n",
       " U6     NaN       NaN       NaN       NaN       NaN  \n",
       "\n",
       "[5 rows x 78 columns]"
      ]
     },
     "execution_count": 3,
     "metadata": {},
     "output_type": "execute_result"
    }
   ],
   "source": [
    "times = pd.read_csv('../data/robotanik/user_time.csv', index_col='Login')\n",
    "# Make task IDs integers (from string labels).\n",
    "times.columns = map(int, times.columns)\n",
    "# Infere \"true labels\" (too difficult case)\n",
    "TOO_DIFFICULT_THRESHOLD_MINUTES = 10\n",
    "labels = times > 60 * TOO_DIFFICULT_THRESHOLD_MINUTES\n",
    "#labels.head()\n",
    "# We will work with log times; TODO: explain why\n",
    "times = times.applymap(np.log)\n",
    "times.head()"
   ]
  },
  {
   "cell_type": "code",
   "execution_count": 4,
   "metadata": {
    "scrolled": true
   },
   "outputs": [
    {
     "data": {
      "text/plain": [
       "<matplotlib.axes._subplots.AxesSubplot at 0x7f0c1a481240>"
      ]
     },
     "execution_count": 4,
     "metadata": {},
     "output_type": "execute_result"
    },
    {
     "data": {
      "image/png": "[encoded data removed]",
      "text/plain": [
       "<matplotlib.figure.Figure at 0x7f0c494bd470>"
      ]
     },
     "metadata": {},
     "output_type": "display_data"
    }
   ],
   "source": [
    "# distribution of log-times\n",
    "sns.violinplot(data=times[[635, 646, 667, 668, 679, 702]])"
   ]
  },
  {
   "cell_type": "markdown",
   "metadata": {},
   "source": [
    "The dataset contains about 10K of users and 80 tasks."
   ]
  },
  {
   "cell_type": "code",
   "execution_count": 5,
   "metadata": {},
   "outputs": [
    {
     "data": {
      "text/plain": [
       "(10605, 78)"
      ]
     },
     "execution_count": 5,
     "metadata": {},
     "output_type": "execute_result"
    }
   ],
   "source": [
    "times.shape"
   ]
  },
  {
   "cell_type": "markdown",
   "metadata": {},
   "source": [
    "# Features"
   ]
  },
  {
   "cell_type": "markdown",
   "metadata": {},
   "source": [
    "Inital experiment - start with 2 features:\n",
    "1. how many tasks has the student already solved (student_solved_percentage)\n",
    "2. how many students have solved the task (task_solved_percentage)\n",
    "\n",
    "Result: due to self-selection bias, student_solved_percentage correlated positively with too difficult task\n",
    "\n",
    "New experiment:\n",
    "1. average solving time of the task (all times are log-scaled)\n",
    "2. average student delta from averge task time\n",
    "\n",
    "\n",
    "\n",
    "Feature ideas:\n",
    "- student-related (skill):\n",
    "    - number of solved tasks\n",
    "    - number of solved tasks in easy/flow/difficult mode\n",
    "    - the most difficult solved task [in easy/flow/difficult mode]\n",
    "    - which tasks solved [in which mode] / log-times / quartiles\n",
    "- task-related (difficulty)\n",
    "    - how many students have solved the task (percentage)\n",
    "    - mean/median order\n",
    "    - median log-time\n",
    "    - percentage of easy/flow/difficult attempts\n",
    "- content based"
   ]
  },
  {
   "cell_type": "code",
   "execution_count": 6,
   "metadata": {},
   "outputs": [
    {
     "name": "stdout",
     "output_type": "stream",
     "text": [
      "(121258, 5)\n"
     ]
    },
    {
     "data": {
      "text/html": [
       "<div>\n",
       "<style>\n",
       "    .dataframe thead tr:only-child th {\n",
       "        text-align: right;\n",
       "    }\n",
       "\n",
       "    .dataframe thead th {\n",
       "        text-align: left;\n",
       "    }\n",
       "\n",
       "    .dataframe tbody tr th {\n",
       "        vertical-align: top;\n",
       "    }\n",
       "</style>\n",
       "<table border=\"1\" class=\"dataframe\">\n",
       "  <thead>\n",
       "    <tr style=\"text-align: right;\">\n",
       "      <th></th>\n",
       "      <th>student_id</th>\n",
       "      <th>student_order</th>\n",
       "      <th>task_id</th>\n",
       "      <th>time</th>\n",
       "      <th>label</th>\n",
       "    </tr>\n",
       "  </thead>\n",
       "  <tbody>\n",
       "    <tr>\n",
       "      <th>0</th>\n",
       "      <td>1</td>\n",
       "      <td>1</td>\n",
       "      <td>635</td>\n",
       "      <td>3.218876</td>\n",
       "      <td>False</td>\n",
       "    </tr>\n",
       "    <tr>\n",
       "      <th>1</th>\n",
       "      <td>1</td>\n",
       "      <td>2</td>\n",
       "      <td>636</td>\n",
       "      <td>2.564949</td>\n",
       "      <td>False</td>\n",
       "    </tr>\n",
       "    <tr>\n",
       "      <th>2</th>\n",
       "      <td>1</td>\n",
       "      <td>3</td>\n",
       "      <td>656</td>\n",
       "      <td>4.595120</td>\n",
       "      <td>False</td>\n",
       "    </tr>\n",
       "    <tr>\n",
       "      <th>3</th>\n",
       "      <td>1</td>\n",
       "      <td>4</td>\n",
       "      <td>698</td>\n",
       "      <td>3.850148</td>\n",
       "      <td>False</td>\n",
       "    </tr>\n",
       "    <tr>\n",
       "      <th>4</th>\n",
       "      <td>1</td>\n",
       "      <td>5</td>\n",
       "      <td>638</td>\n",
       "      <td>3.637586</td>\n",
       "      <td>False</td>\n",
       "    </tr>\n",
       "  </tbody>\n",
       "</table>\n",
       "</div>"
      ],
      "text/plain": [
       "   student_id  student_order  task_id      time  label\n",
       "0           1              1      635  3.218876  False\n",
       "1           1              2      636  2.564949  False\n",
       "2           1              3      656  4.595120  False\n",
       "3           1              4      698  3.850148  False\n",
       "4           1              5      638  3.637586  False"
      ]
     },
     "execution_count": 6,
     "metadata": {},
     "output_type": "execute_result"
    }
   ],
   "source": [
    "# create a dataframe of events (student-task interactions)\n",
    "#task_count = times.shape[1]\n",
    "data = []\n",
    "for user_id in ordering.index:\n",
    "    order = ordering.loc[user_id].dropna().sort_values()\n",
    "    for task_id, student_order in order.items():\n",
    "        event = OrderedDict(\n",
    "            student_id=int(user_id[2:]),\n",
    "            student_order=int(student_order),\n",
    "            #student_solved_percentage=(student_order-1)/task_count,\n",
    "            #student_avg_time_delta=2,\n",
    "            task_id=int(task_id),\n",
    "            time=times.loc[user_id, task_id],\n",
    "            label=labels.loc[user_id, task_id])\n",
    "        data.append(event)\n",
    "\n",
    "\n",
    "events = pd.DataFrame(data)\n",
    "print(events.shape)\n",
    "events.head()"
   ]
  },
  {
   "cell_type": "code",
   "execution_count": 19,
   "metadata": {},
   "outputs": [
    {
     "name": "stdout",
     "output_type": "stream",
     "text": [
      "82219 39039\n"
     ]
    }
   ],
   "source": [
    "# train-test split (todo: cross validation)\n",
    "# user-stratified\n",
    "raw_events_train = events[events.student_id < 15000]\n",
    "raw_events_test = events[events.student_id >= 15000]\n",
    "print(len(raw_events_train), len(raw_events_test))"
   ]
  },
  {
   "cell_type": "code",
   "execution_count": 20,
   "metadata": {},
   "outputs": [
    {
     "data": {
      "text/html": [
       "<div>\n",
       "<style>\n",
       "    .dataframe thead tr:only-child th {\n",
       "        text-align: right;\n",
       "    }\n",
       "\n",
       "    .dataframe thead th {\n",
       "        text-align: left;\n",
       "    }\n",
       "\n",
       "    .dataframe tbody tr th {\n",
       "        vertical-align: top;\n",
       "    }\n",
       "</style>\n",
       "<table border=\"1\" class=\"dataframe\">\n",
       "  <thead>\n",
       "    <tr style=\"text-align: right;\">\n",
       "      <th></th>\n",
       "      <th>task_time_avg</th>\n",
       "      <th>task_time_median</th>\n",
       "      <th>task_solved_percentage</th>\n",
       "    </tr>\n",
       "    <tr>\n",
       "      <th>task_id</th>\n",
       "      <th></th>\n",
       "      <th></th>\n",
       "      <th></th>\n",
       "    </tr>\n",
       "  </thead>\n",
       "  <tbody>\n",
       "    <tr>\n",
       "      <th>635</th>\n",
       "      <td>4.333675</td>\n",
       "      <td>4.369448</td>\n",
       "      <td>0.881162</td>\n",
       "    </tr>\n",
       "    <tr>\n",
       "      <th>636</th>\n",
       "      <td>3.172100</td>\n",
       "      <td>3.044522</td>\n",
       "      <td>0.839055</td>\n",
       "    </tr>\n",
       "    <tr>\n",
       "      <th>637</th>\n",
       "      <td>4.418630</td>\n",
       "      <td>4.290459</td>\n",
       "      <td>0.602259</td>\n",
       "    </tr>\n",
       "    <tr>\n",
       "      <th>638</th>\n",
       "      <td>4.246620</td>\n",
       "      <td>4.276666</td>\n",
       "      <td>0.687940</td>\n",
       "    </tr>\n",
       "    <tr>\n",
       "      <th>639</th>\n",
       "      <td>5.153593</td>\n",
       "      <td>5.056246</td>\n",
       "      <td>0.128961</td>\n",
       "    </tr>\n",
       "  </tbody>\n",
       "</table>\n",
       "</div>"
      ],
      "text/plain": [
       "         task_time_avg  task_time_median  task_solved_percentage\n",
       "task_id                                                         \n",
       "635           4.333675          4.369448                0.881162\n",
       "636           3.172100          3.044522                0.839055\n",
       "637           4.418630          4.290459                0.602259\n",
       "638           4.246620          4.276666                0.687940\n",
       "639           5.153593          5.056246                0.128961"
      ]
     },
     "execution_count": 20,
     "metadata": {},
     "output_type": "execute_result"
    }
   ],
   "source": [
    "# compute task features on training-set\n",
    "def compute_task_features(events_train):\n",
    "    tasks = events_train.groupby('task_id')\n",
    "    n_students = events_train.student_id.nunique()\n",
    "    task_features = pd.DataFrame(OrderedDict(\n",
    "      task_time_avg=tasks.time.mean(),\n",
    "      task_time_median=tasks.time.median(),\n",
    "      task_solved_percentage=tasks.time.count() / n_students\n",
    "    ))\n",
    "    return task_features\n",
    "\n",
    "task_features = compute_task_features(raw_events_train)\n",
    "task_features.head()"
   ]
  },
  {
   "cell_type": "code",
   "execution_count": 21,
   "metadata": {},
   "outputs": [
    {
     "data": {
      "text/plain": [
       "<matplotlib.axes._subplots.AxesSubplot at 0x7f0c0c194d68>"
      ]
     },
     "execution_count": 21,
     "metadata": {},
     "output_type": "execute_result"
    },
    {
     "data": {
      "image/png": "[encoded data removed]",
      "text/plain": [
       "<matplotlib.figure.Figure at 0x7f0c0c1946d8>"
      ]
     },
     "metadata": {},
     "output_type": "display_data"
    }
   ],
   "source": [
    "#task_features.task_solved_percentage.plot.hist()\n",
    "#task_features.task_time_avg.plot.hist()\n",
    "\n",
    "# Time medians are more normally distributed than the averages.\n",
    "task_features.task_time_median.plot.hist()"
   ]
  },
  {
   "cell_type": "code",
   "execution_count": 36,
   "metadata": {
    "scrolled": false
   },
   "outputs": [
    {
     "data": {
      "text/html": [
       "<div>\n",
       "<style>\n",
       "    .dataframe thead tr:only-child th {\n",
       "        text-align: right;\n",
       "    }\n",
       "\n",
       "    .dataframe thead th {\n",
       "        text-align: left;\n",
       "    }\n",
       "\n",
       "    .dataframe tbody tr th {\n",
       "        vertical-align: top;\n",
       "    }\n",
       "</style>\n",
       "<table border=\"1\" class=\"dataframe\">\n",
       "  <thead>\n",
       "    <tr style=\"text-align: right;\">\n",
       "      <th></th>\n",
       "      <th>student_id</th>\n",
       "      <th>student_order</th>\n",
       "      <th>task_id</th>\n",
       "      <th>time</th>\n",
       "      <th>label</th>\n",
       "      <th>task_time_avg</th>\n",
       "      <th>task_time_median</th>\n",
       "      <th>task_solved_percentage</th>\n",
       "      <th>student_timedelta_avg</th>\n",
       "    </tr>\n",
       "  </thead>\n",
       "  <tbody>\n",
       "    <tr>\n",
       "      <th>0</th>\n",
       "      <td>1</td>\n",
       "      <td>1</td>\n",
       "      <td>635</td>\n",
       "      <td>3.218876</td>\n",
       "      <td>False</td>\n",
       "      <td>4.333675</td>\n",
       "      <td>4.369448</td>\n",
       "      <td>0.881162</td>\n",
       "      <td>0.000000</td>\n",
       "    </tr>\n",
       "    <tr>\n",
       "      <th>1</th>\n",
       "      <td>1</td>\n",
       "      <td>2</td>\n",
       "      <td>636</td>\n",
       "      <td>2.564949</td>\n",
       "      <td>False</td>\n",
       "      <td>3.172100</td>\n",
       "      <td>3.044522</td>\n",
       "      <td>0.839055</td>\n",
       "      <td>1.114799</td>\n",
       "    </tr>\n",
       "    <tr>\n",
       "      <th>2</th>\n",
       "      <td>1</td>\n",
       "      <td>3</td>\n",
       "      <td>656</td>\n",
       "      <td>4.595120</td>\n",
       "      <td>False</td>\n",
       "      <td>4.512972</td>\n",
       "      <td>4.442651</td>\n",
       "      <td>0.476819</td>\n",
       "      <td>0.860975</td>\n",
       "    </tr>\n",
       "    <tr>\n",
       "      <th>3</th>\n",
       "      <td>1</td>\n",
       "      <td>4</td>\n",
       "      <td>698</td>\n",
       "      <td>3.850148</td>\n",
       "      <td>False</td>\n",
       "      <td>4.515352</td>\n",
       "      <td>4.406719</td>\n",
       "      <td>0.470217</td>\n",
       "      <td>0.546601</td>\n",
       "    </tr>\n",
       "    <tr>\n",
       "      <th>4</th>\n",
       "      <td>1</td>\n",
       "      <td>5</td>\n",
       "      <td>638</td>\n",
       "      <td>3.637586</td>\n",
       "      <td>False</td>\n",
       "      <td>4.246620</td>\n",
       "      <td>4.276666</td>\n",
       "      <td>0.687940</td>\n",
       "      <td>0.576252</td>\n",
       "    </tr>\n",
       "  </tbody>\n",
       "</table>\n",
       "</div>"
      ],
      "text/plain": [
       "   student_id  student_order  task_id      time  label  task_time_avg  \\\n",
       "0           1              1      635  3.218876  False       4.333675   \n",
       "1           1              2      636  2.564949  False       3.172100   \n",
       "2           1              3      656  4.595120  False       4.512972   \n",
       "3           1              4      698  3.850148  False       4.515352   \n",
       "4           1              5      638  3.637586  False       4.246620   \n",
       "\n",
       "   task_time_median  task_solved_percentage  student_timedelta_avg  \n",
       "0          4.369448                0.881162               0.000000  \n",
       "1          3.044522                0.839055               1.114799  \n",
       "2          4.442651                0.476819               0.860975  \n",
       "3          4.406719                0.470217               0.546601  \n",
       "4          4.276666                0.687940               0.576252  "
      ]
     },
     "execution_count": 36,
     "metadata": {},
     "output_type": "execute_result"
    }
   ],
   "source": [
    "def join_task_features(events):\n",
    "    events = pd.merge(events, task_features, left_on='task_id', right_index=True)\n",
    "    events.sort_values(by=['student_id', 'student_order'], inplace=True)\n",
    "    return events\n",
    "\n",
    "def add_derived_features(events):\n",
    "    \"\"\"Extend each event with computed features.\n",
    "    \"\"\"\n",
    "    events = join_task_features(events)\n",
    "    # features for students are derived from past attempts only\n",
    "    # Note that for consistency all student measures are increasing\n",
    "    # with their skill; hence the positve delta means how much\n",
    "    # faster they solve the task than is its average time difficulty.\n",
    "    events['timedelta'] = (events.task_time_avg - events.time)\n",
    "    students = events.groupby('student_id')\n",
    "    delta_avg = (\n",
    "        events\n",
    "        .groupby('student_id')\n",
    "        .timedelta\n",
    "        .expanding()\n",
    "        .mean()\n",
    "        .groupby('student_id')\n",
    "        .shift().fillna(0)\n",
    "    )\n",
    "    events['student_timedelta_avg'] = delta_avg.values\n",
    "    events.pop('timedelta')\n",
    "    return events\n",
    "\n",
    "events_train = add_derived_features(raw_events_train)\n",
    "events_test = add_derived_features(raw_events_test)\n",
    "events_train.head()\n",
    "#add_derived_features(events_train.head(40)).head(16)"
   ]
  },
  {
   "cell_type": "code",
   "execution_count": 23,
   "metadata": {},
   "outputs": [
    {
     "data": {
      "image/png": "[encoded data removed]",
      "text/plain": [
       "<matplotlib.figure.Figure at 0x7f0c0c2c2828>"
      ]
     },
     "metadata": {},
     "output_type": "display_data"
    }
   ],
   "source": [
    "positives = events_train.query(\"label == True\").sample(500)\n",
    "negatives = events_train.query(\"label == False\").sample(500)\n",
    "\n",
    "# Set up the figure\n",
    "f, ax = plt.subplots(figsize=(8, 8))\n",
    "ax.set_aspect(\"equal\")\n",
    "\n",
    "# Draw the two density plots\n",
    "ax = sns.kdeplot(\n",
    "    negatives.student_timedelta_avg,\n",
    "    negatives.task_time_avg,\n",
    "    cmap=\"Blues\", shade=False, shade_lowest=False)\n",
    "ax = sns.kdeplot(\n",
    "    positives.student_timedelta_avg,\n",
    "    positives.task_time_avg,\n",
    "    cmap=\"Reds\", shade=False, shade_lowest=False)\n",
    "\n",
    "# Add labels to the plot\n",
    "# red = sns.color_palette(\"Reds\")[-2]\n",
    "# blue = sns.color_palette(\"Blues\")[-2]\n",
    "# ax.text(0.2, 0.9, \"not-difficult\", size=16, color=blue)\n",
    "# ax.text(0.4, -0.1, \"difficult\", size=16, color=red)"
   ]
  },
  {
   "cell_type": "code",
   "execution_count": null,
   "metadata": {
    "collapsed": true
   },
   "outputs": [],
   "source": []
  },
  {
   "cell_type": "code",
   "execution_count": null,
   "metadata": {
    "collapsed": true
   },
   "outputs": [],
   "source": []
  },
  {
   "cell_type": "code",
   "execution_count": null,
   "metadata": {
    "collapsed": true
   },
   "outputs": [],
   "source": []
  },
  {
   "cell_type": "markdown",
   "metadata": {},
   "source": [
    "## Comparing models\n",
    "\n",
    "goal: compare performance of different models x different features\n",
    "and explore various evaluation metrics and how much they agree with each other\n",
    "\n",
    "todo: add evaluation metrics suitable for unbalanced problems"
   ]
  },
  {
   "cell_type": "code",
   "execution_count": 61,
   "metadata": {},
   "outputs": [
    {
     "name": "stdout",
     "output_type": "stream",
     "text": [
      "constant {'accuracy': 0.95765772688849615}\n",
      "task-avg {'accuracy': 0.9580163426317273}\n",
      "student-avg {'accuracy': 0.95765772688849615}\n",
      "logreg {'accuracy': 0.95717103409411097}\n",
      "perceptron {'accuracy': 0.68208714362560519}\n",
      "lda {'accuracy': 0.95783703476011173}\n",
      "qda {'accuracy': 0.9579138809908041}\n"
     ]
    }
   ],
   "source": [
    "def train_model(model, features):\n",
    "    X = events_train[features]\n",
    "    y = events_train.label\n",
    "    model.fit(X, y)\n",
    "    return model\n",
    "\n",
    "def get_test_labels_and_scores(model, features):\n",
    "    X_test = events_test[features]\n",
    "    y_test = events_test.label\n",
    "    #y_scores = model.decision_function(X_test)\n",
    "    y_scores = model.predict_proba(X_test)[:,1]\n",
    "    return y_test, y_scores\n",
    "\n",
    "def eval_model(model, features):\n",
    "    X_test = events_test[features]\n",
    "    y_test = events_test.label\n",
    "    class_predictions = model.predict(X_test)\n",
    "    accuracy = np.mean(class_predictions == y_test)\n",
    "    return {\n",
    "        'accuracy': accuracy\n",
    "    }    \n",
    "    \n",
    "models = [\n",
    "    ('constant', DummyClassifier(strategy='most_frequent'),\n",
    "     ['student_id']),\n",
    "    ('task-avg', LogisticRegression(),\n",
    "     ['task_time_avg']),\n",
    "    ('student-avg', LogisticRegression(),\n",
    "     ['student_timedelta_avg']),\n",
    "    ('logreg', LogisticRegression(),\n",
    "     ['student_timedelta_avg', 'task_time_avg']),\n",
    "    ('perceptron', Perceptron(max_iter=1000, tol=0.0001),\n",
    "     ['student_timedelta_avg', 'task_time_avg']),\n",
    "    ('lda', LinearDiscriminantAnalysis(solver=\"svd\"),\n",
    "     ['student_timedelta_avg', 'task_time_avg']),\n",
    "    ('qda', QuadraticDiscriminantAnalysis(),\n",
    "     ['student_timedelta_avg', 'task_time_avg']),\n",
    "]\n",
    "\n",
    "results = {}\n",
    "for name, model, features in models:\n",
    "    model = train_model(model, features)\n",
    "    results[name] = eval_model(model, features)\n",
    "    print(name, results[name])    "
   ]
  },
  {
   "cell_type": "markdown",
   "metadata": {},
   "source": [
    "## Logistic Regression"
   ]
  },
  {
   "cell_type": "code",
   "execution_count": 40,
   "metadata": {},
   "outputs": [
    {
     "name": "stdout",
     "output_type": "stream",
     "text": [
      "[-2.91065616] [[-0.57819272]]\n"
     ]
    }
   ],
   "source": [
    "clf = LogisticRegression()\n",
    "clf = train_model(clf, ['student_timedelta_avg'])\n",
    "print(clf.intercept_, clf.coef_)\n",
    "# Both intercpet and skill coeff are negative -> always prediciting not-difficult (same as dummy classifier)"
   ]
  },
  {
   "cell_type": "code",
   "execution_count": 42,
   "metadata": {},
   "outputs": [
    {
     "name": "stdout",
     "output_type": "stream",
     "text": [
      "[-12.79045591] [[ 2.04985799]]\n"
     ]
    }
   ],
   "source": [
    "clf = LogisticRegression()\n",
    "clf = train_model(clf, ['task_time_avg'])\n",
    "print(clf.intercept_, clf.coef_)"
   ]
  },
  {
   "cell_type": "code",
   "execution_count": 43,
   "metadata": {},
   "outputs": [
    {
     "name": "stdout",
     "output_type": "stream",
     "text": [
      "[-14.28175381] [[ 2.34840587 -1.41077362]]\n"
     ]
    }
   ],
   "source": [
    "clf = LogisticRegression()\n",
    "clf = train_model(clf, ['task_time_avg', 'student_timedelta_avg'])\n",
    "print(clf.intercept_, clf.coef_)"
   ]
  },
  {
   "cell_type": "markdown",
   "metadata": {},
   "source": [
    "We want penalize false negatives more than false positives - it's ok to lock some not-difficult tasks, it's bad not to lock too dificult tasks. [not clear] So recall (sensitivity) is more imporatant than precision.\n",
    "\n",
    "First step: measure recall, precision, auc-pr"
   ]
  },
  {
   "cell_type": "code",
   "execution_count": 67,
   "metadata": {},
   "outputs": [
    {
     "ename": "NameError",
     "evalue": "name 'y_true' is not defined",
     "output_type": "error",
     "traceback": [
      "\u001b[0;31m---------------------------------------------------------------------------\u001b[0m",
      "\u001b[0;31mNameError\u001b[0m                                 Traceback (most recent call last)",
      "\u001b[0;32m<ipython-input-67-bb796677b097>\u001b[0m in \u001b[0;36m<module>\u001b[0;34m()\u001b[0m\n\u001b[1;32m      1\u001b[0m \u001b[0;31m# TODO: compute confusion matrix, precision, recall, f1, PR curves\u001b[0m\u001b[0;34m\u001b[0m\u001b[0;34m\u001b[0m\u001b[0m\n\u001b[1;32m      2\u001b[0m \u001b[0;31m# add these metrics to the evalution above\u001b[0m\u001b[0;34m\u001b[0m\u001b[0;34m\u001b[0m\u001b[0m\n\u001b[0;32m----> 3\u001b[0;31m \u001b[0mconfusion_matrix\u001b[0m\u001b[0;34m(\u001b[0m\u001b[0my_true\u001b[0m\u001b[0;34m,\u001b[0m \u001b[0my_pred\u001b[0m\u001b[0;34m)\u001b[0m\u001b[0;34m\u001b[0m\u001b[0m\n\u001b[0m",
      "\u001b[0;31mNameError\u001b[0m: name 'y_true' is not defined"
     ]
    }
   ],
   "source": [
    "# TODO: compute confusion matrix, precision, recall, f1, PR curves\n",
    "# add these metrics to the evalution above\n",
    "\n",
    "confusion_matrix(y_true, y_pred)"
   ]
  },
  {
   "cell_type": "code",
   "execution_count": 62,
   "metadata": {},
   "outputs": [
    {
     "name": "stdout",
     "output_type": "stream",
     "text": [
      "Average precision-recall score: 0.02\n"
     ]
    },
    {
     "data": {
      "text/plain": [
       "Text(0.5,1,'2-class Precision-Recall curve: AP=0.02')"
      ]
     },
     "execution_count": 62,
     "metadata": {},
     "output_type": "execute_result"
    },
    {
     "data": {
      "image/png": "[encoded data removed]",
      "text/plain": [
       "<matplotlib.figure.Figure at 0x7f0bffc68860>"
      ]
     },
     "metadata": {},
     "output_type": "display_data"
    }
   ],
   "source": [
    "clf = LogisticRegression()\n",
    "features = ['task_time_avg', 'student_timedelta_avg']\n",
    "clf = train_model(clf, features)\n",
    "y_test, y_scores = get_test_labels_and_scores(model, features)\n",
    "\n",
    "\n",
    "average_precision = average_precision_score(y_test, y_scores)\n",
    "\n",
    "print('Average precision-recall score: {0:0.2f}'.format(\n",
    "      average_precision))\n",
    "\n",
    "precision, recall, _ = precision_recall_curve(y_test, y_scores)\n",
    "\n",
    "plt.step(recall, precision, color='b', alpha=0.2,\n",
    "         where='post')\n",
    "plt.fill_between(recall, precision, step='post', alpha=0.2,\n",
    "                 color='b')\n",
    "\n",
    "plt.xlabel('Recall')\n",
    "plt.ylabel('Precision')\n",
    "plt.ylim([0.0, 1.05])\n",
    "plt.xlim([0.0, 1.0])\n",
    "plt.title('2-class Precision-Recall curve: AP={0:0.2f}'.format(\n",
    "          average_precision))"
   ]
  },
  {
   "cell_type": "code",
   "execution_count": null,
   "metadata": {
    "collapsed": true
   },
   "outputs": [],
   "source": []
  },
  {
   "cell_type": "code",
   "execution_count": null,
   "metadata": {
    "collapsed": true
   },
   "outputs": [],
   "source": []
  },
  {
   "cell_type": "markdown",
   "metadata": {},
   "source": [
    "## Perceptron"
   ]
  },
  {
   "cell_type": "code",
   "execution_count": 27,
   "metadata": {},
   "outputs": [],
   "source": [
    "# # original experiment with different features\n",
    "# model = Perceptron(max_iter=1000, tol=0.0001, fit_intercept=True)\n",
    "# features = ['student_solved_percentage', 'task_solved_percentage']\n",
    "# train_model(model, features)\n",
    "# print(eval_model(model, features))\n",
    "# print('Weights:', model.coef_)\n",
    "# print('Intercept:', model.intercept_)"
   ]
  },
  {
   "cell_type": "markdown",
   "metadata": {},
   "source": [
    "Observations:\n",
    "* Feature `task_solved_percentage` is 7-times more important than `student_solved_percentage`.\n",
    "* The fact that the student has solved more tasks is positively correlated with the task beign labeled as too difficult. This is proably caused by the *self-selection bias*: students with more solved tasks attempt tasks at the end of the list, and these tasks are more time consuming. So this result suggests that the `student_solved_percentage` is a dangerour feauture and should not be used."
   ]
  },
  {
   "cell_type": "code",
   "execution_count": 28,
   "metadata": {},
   "outputs": [
    {
     "name": "stdout",
     "output_type": "stream",
     "text": [
      "{'accuracy': 0.68208714362560519}\n",
      "Weights: [[-10.25465427  20.22007572]]\n",
      "Intercept: [-93.]\n"
     ]
    }
   ],
   "source": [
    "clf = Perceptron(max_iter=10000, tol=0.00001, fit_intercept=True)\n",
    "features = ['student_timedelta_avg', 'task_time_avg']\n",
    "train_model(clf, features)\n",
    "print(eval_model(clf, features))\n",
    "print('Weights:', clf.coef_)\n",
    "print('Intercept:', clf.intercept_)"
   ]
  },
  {
   "cell_type": "code",
   "execution_count": 29,
   "metadata": {},
   "outputs": [
    {
     "data": {
      "text/plain": [
       "Text(0.5,1,'Perceptron')"
      ]
     },
     "execution_count": 29,
     "metadata": {},
     "output_type": "execute_result"
    },
    {
     "data": {
      "image/png": "[encoded data removed]",
      "text/plain": [
       "<matplotlib.figure.Figure at 0x7f0c0c05ff28>"
      ]
     },
     "metadata": {},
     "output_type": "display_data"
    }
   ],
   "source": [
    "# Plot decision boundary\n",
    "# Source: https://stats.stackexchange.com/questions/71335/decision-boundary-plot-for-a-perceptron\n",
    "some_events = events_train.sample(1000)\n",
    "X = some_events[features].values\n",
    "y = some_events.label.values\n",
    "h = 0.02\n",
    "# create a mesh to plot in\n",
    "x_min, x_max = X[:, 0].min() - 1, X[:, 0].max() + 1\n",
    "y_min, y_max = X[:, 1].min() - 1, X[:, 1].max() + 1\n",
    "xx, yy = np.meshgrid(np.arange(x_min, x_max, h),\n",
    "                     np.arange(y_min, y_max, h))\n",
    "\n",
    "# Plot the decision boundary. For that, we will assign a color to each\n",
    "# point in the mesh [x_min, m_max]x[y_min, y_max].\n",
    "fig, ax = plt.subplots()\n",
    "Z = clf.predict(np.c_[xx.ravel(), yy.ravel()])\n",
    "\n",
    "# Put the result into a color plot\n",
    "Z = Z.reshape(xx.shape)\n",
    "ax.contourf(xx, yy, Z, cmap=plt.cm.Paired)\n",
    "\n",
    "# Plot also the training points\n",
    "ax.scatter(X[:, 0], X[:, 1], c=y, cmap=plt.cm.Paired, edgecolors='k')\n",
    "\n",
    "ax.set_title('Perceptron')"
   ]
  },
  {
   "cell_type": "markdown",
   "metadata": {
    "collapsed": true
   },
   "source": [
    "## LDA and QDA\n",
    "\n",
    "FDA = LDA for 2 classes (?)"
   ]
  },
  {
   "cell_type": "code",
   "execution_count": 30,
   "metadata": {},
   "outputs": [
    {
     "name": "stdout",
     "output_type": "stream",
     "text": [
      "{'accuracy': 0.95783703476011173}\n",
      "{'accuracy': 0.9579138809908041}\n"
     ]
    }
   ],
   "source": [
    "lda = LinearDiscriminantAnalysis(solver=\"svd\", store_covariance=True)\n",
    "features = ['student_timedelta_avg', 'task_time_avg']\n",
    "train_model(lda, features)\n",
    "print(eval_model(lda, features))\n",
    "\n",
    "qda = QuadraticDiscriminantAnalysis(store_covariance=True)\n",
    "train_model(qda, features)\n",
    "print(eval_model(qda, features))"
   ]
  },
  {
   "cell_type": "code",
   "execution_count": 31,
   "metadata": {},
   "outputs": [
    {
     "data": {
      "image/png": "[encoded data removed]",
      "text/plain": [
       "<matplotlib.figure.Figure at 0x7f0c0c05fa20>"
      ]
     },
     "metadata": {},
     "output_type": "display_data"
    }
   ],
   "source": [
    "# plots (X and y taken from the previeous section)\n",
    "# taken from scikit-learn http://scikit-learn.org/stable/auto_examples/classification/plot_lda_qda.html) \n",
    "\n",
    "from scipy import linalg\n",
    "from matplotlib import colors\n",
    "import matplotlib as mpl\n",
    "# #############################################################################\n",
    "# Colormap\n",
    "cmap = colors.LinearSegmentedColormap(\n",
    "    'red_blue_classes',\n",
    "    {'red': [(0, 1, 1), (1, 0.7, 0.7)],\n",
    "     'green': [(0, 0.7, 0.7), (1, 0.7, 0.7)],\n",
    "     'blue': [(0, 0.7, 0.7), (1, 1, 1)]})\n",
    "plt.cm.register_cmap(cmap=cmap)\n",
    "# #############################################################################\n",
    "# Plot functions\n",
    "def plot_data(lda, X, y, y_pred):\n",
    "    splot = plt.subplot()\n",
    "    \n",
    "    tp = (y == y_pred)  # True Positive\n",
    "    tp0, tp1 = tp[y == 0], tp[y == 1]\n",
    "    X0, X1 = X[y == 0], X[y == 1]\n",
    "    X0_tp, X0_fp = X0[tp0], X0[~tp0]\n",
    "    X1_tp, X1_fp = X1[tp1], X1[~tp1]\n",
    "\n",
    "    alpha = 0.5\n",
    "\n",
    "    # class 0: dots\n",
    "    plt.plot(X0_tp[:, 0], X0_tp[:, 1], 'o', alpha=alpha,\n",
    "             color='red', markeredgecolor='k')\n",
    "    plt.plot(X0_fp[:, 0], X0_fp[:, 1], '*', alpha=alpha,\n",
    "             color='#990000', markeredgecolor='k')  # dark red\n",
    "\n",
    "    # class 1: dots\n",
    "    plt.plot(X1_tp[:, 0], X1_tp[:, 1], 'o', alpha=alpha,\n",
    "             color='blue', markeredgecolor='k')\n",
    "    plt.plot(X1_fp[:, 0], X1_fp[:, 1], '*', alpha=alpha,\n",
    "             color='#000099', markeredgecolor='k')  # dark blue\n",
    "\n",
    "    # class 0 and 1 : areas\n",
    "    nx, ny = 200, 100\n",
    "    x_min, x_max = plt.xlim()\n",
    "    y_min, y_max = plt.ylim()\n",
    "    xx, yy = np.meshgrid(np.linspace(x_min, x_max, nx),\n",
    "                         np.linspace(y_min, y_max, ny))\n",
    "    Z = lda.predict_proba(np.c_[xx.ravel(), yy.ravel()])\n",
    "    Z = Z[:, 1].reshape(xx.shape)\n",
    "    plt.pcolormesh(xx, yy, Z, cmap='red_blue_classes',\n",
    "                   norm=colors.Normalize(0., 1.))\n",
    "    plt.contour(xx, yy, Z, [0.5], linewidths=2., colors='k')\n",
    "\n",
    "    # means\n",
    "    plt.plot(lda.means_[0][0], lda.means_[0][1],\n",
    "             'o', color='black', markersize=10, markeredgecolor='k')\n",
    "    plt.plot(lda.means_[1][0], lda.means_[1][1],\n",
    "             'o', color='black', markersize=10, markeredgecolor='k')\n",
    "\n",
    "    return splot\n",
    "\n",
    "\n",
    "def plot_ellipse(splot, mean, cov, color):\n",
    "    v, w = linalg.eigh(cov)\n",
    "    u = w[0] / linalg.norm(w[0])\n",
    "    angle = np.arctan(u[1] / u[0])\n",
    "    angle = 180 * angle / np.pi  # convert to degrees\n",
    "    # filled Gaussian at 2 standard deviation\n",
    "    ell = mpl.patches.Ellipse(mean, 2 * v[0] ** 0.5, 2 * v[1] ** 0.5,\n",
    "                              180 + angle, facecolor=color,\n",
    "                              edgecolor='yellow',\n",
    "                              linewidth=2, zorder=2)\n",
    "    ell.set_clip_box(splot.bbox)\n",
    "    ell.set_alpha(0.5)\n",
    "    splot.add_artist(ell)\n",
    "    splot.set_xticks(())\n",
    "    splot.set_yticks(())\n",
    "\n",
    "\n",
    "def plot_lda_cov(lda, splot):\n",
    "    plot_ellipse(splot, lda.means_[0], lda.covariance_, 'red')\n",
    "    plot_ellipse(splot, lda.means_[1], lda.covariance_, 'blue')\n",
    "\n",
    "\n",
    "def plot_qda_cov(qda, splot):\n",
    "    plot_ellipse(splot, qda.means_[0], qda.covariances_[0], 'red')\n",
    "    plot_ellipse(splot, qda.means_[1], qda.covariances_[1], 'blue')\n",
    "\n",
    "\n",
    "y_pred = lda.predict(X)\n",
    "splot = plot_data(lda, X, y, y_pred)\n",
    "plot_lda_cov(lda, splot)"
   ]
  },
  {
   "cell_type": "code",
   "execution_count": 32,
   "metadata": {},
   "outputs": [
    {
     "name": "stderr",
     "output_type": "stream",
     "text": [
      "/home/xeffenb1/anaconda3/lib/python3.6/site-packages/sklearn/utils/deprecation.py:77: DeprecationWarning: Function covariances_ is deprecated; Attribute covariances_ was deprecated in version 0.19 and will be removed in 0.21. Use covariance_ instead\n",
      "  warnings.warn(msg, category=DeprecationWarning)\n",
      "/home/xeffenb1/anaconda3/lib/python3.6/site-packages/sklearn/utils/deprecation.py:77: DeprecationWarning: Function covariances_ is deprecated; Attribute covariances_ was deprecated in version 0.19 and will be removed in 0.21. Use covariance_ instead\n",
      "  warnings.warn(msg, category=DeprecationWarning)\n"
     ]
    },
    {
     "data": {
      "image/png": "[encoded data removed]",
      "text/plain": [
       "<matplotlib.figure.Figure at 0x7f0c0c1943c8>"
      ]
     },
     "metadata": {},
     "output_type": "display_data"
    }
   ],
   "source": [
    "y_pred = qda.predict(X)\n",
    "splot = plot_data(qda, X, y, y_pred)\n",
    "plot_qda_cov(qda, splot)"
   ]
  },
  {
   "cell_type": "code",
   "execution_count": null,
   "metadata": {
    "collapsed": true
   },
   "outputs": [],
   "source": []
  },
  {
   "cell_type": "code",
   "execution_count": null,
   "metadata": {
    "collapsed": true
   },
   "outputs": [],
   "source": []
  },
  {
   "cell_type": "code",
   "execution_count": null,
   "metadata": {
    "collapsed": true
   },
   "outputs": [],
   "source": []
  }
 ],
 "metadata": {
  "kernelspec": {
   "display_name": "Python 3",
   "language": "python",
   "name": "python3"
  },
  "language_info": {
   "codemirror_mode": {
    "name": "ipython",
    "version": 3
   },
   "file_extension": ".py",
   "mimetype": "text/x-python",
   "name": "python",
   "nbconvert_exporter": "python",
   "pygments_lexer": "ipython3",
   "version": "3.6.3"
  }
 },
 "nbformat": 4,
 "nbformat_minor": 2
}
